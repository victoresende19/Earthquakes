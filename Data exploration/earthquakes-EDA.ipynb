{
 "cells": [
  {
   "cell_type": "markdown",
   "metadata": {},
   "source": [
    "<a href=\"https://github.com/victoresende19\" rel=\"some text\">![Foo](https://caminhoslanguages.com/wp-content/uploads/2021/05/earthquakes-brazil-terremotos-brasil.jpg)</a>\n",
    "\n",
    "<h2 style=\"text-align:center\">Coleta e análise de dados sobre sismos</h2>\n",
    "<p style=\"text-align:center;font-size:13px;\"></p>\n",
    "   \n",
    "<h2 style=\"text-align:center\">Victor Augusto Souza Resende</h2>\n",
    "<p style=\"text-align:center;font-size:13px;\">Autor</p>"
   ]
  },
  {
   "cell_type": "markdown",
   "metadata": {},
   "source": [
    "## Sumário\n",
    "\n",
    "    \n",
    "- [1. Contexto](#1)<br>\n",
    "    * [1.2 Observatório sismológico](#12)<br>\n",
    "    \n",
    "- [2. Coletando os dados - API](#2) <br>\n",
    "    * [2.1 Coletando as variáveis necessárias](#21)<br>\n",
    "    * [2.2 Criando um dataframe com a lista das variáveis coletadas](#22)<br>\n",
    "    * [2.3 Manipulação dos dados](#23)<br>\n",
    "        + [2.3.1 Tipo do terremoto](#231)<br>\n",
    "        + [2.3.2 Variáveis de tempo](#232)<br>\n",
    "    \n",
    "- [3. Análise exploratória](#3) <br>\n",
    "    * [3.1 Magnitude](#31)<br>\n",
    "    * [3.2 Local](#32)<br>\n",
    "    * [3.3 Tipo](#33)<br>\n",
    "    * [3.4 Significância](#34)<br>\n",
    "    * [3.5 Profundidade](#35)<br>\n",
    "    * [3.5 Mapas-mundí](#36)<br>\n",
    "    \n",
    "- [4. Modelagem](#4) <br>\n",
    "    * [4.1 Separaçao em treino e teste](#41)<br>\n",
    "    * [4.2 Normalização dos dados](#42)<br>\n",
    "    * [4.3 Random forest](#43)<br>\n",
    "        + [4.3.1 GridSearchCV](#431)<br>\n",
    "        + [4.3.2 Visualização das árvores](#432)<br>\n",
    "\n",
    "- [5. Banco de dados (Não utilizado)](#5)<br>\n",
    "    * [5.1 Conexão SQlite](#51)<br>\n",
    "        + [5.1.2 Acessando dados SQLite](#512)<br>"
   ]
  },
  {
   "cell_type": "code",
   "execution_count": null,
   "metadata": {
    "scrolled": true
   },
   "outputs": [],
   "source": [
    "!pip install plotly\n",
    "!pip install sqlalchemy"
   ]
  },
  {
   "cell_type": "code",
   "execution_count": null,
   "metadata": {},
   "outputs": [],
   "source": [
    "import pandas as pd\n",
    "import seaborn as sns\n",
    "\n",
    "import urllib.request\n",
    "import json\n",
    "\n",
    "import plotly.express as px\n",
    "import plotly.graph_objects as go\n",
    "import matplotlib.pyplot as plt\n",
    "from matplotlib.pyplot import figure\n",
    "\n",
    "from sklearn.metrics import mean_squared_error\n",
    "from sklearn.metrics import mean_absolute_error\n",
    "import numpy as np\n",
    "\n",
    "import sqlalchemy               #Acesso ao BD\n",
    "from sqlalchemy import create_engine"
   ]
  },
  {
   "cell_type": "markdown",
   "metadata": {},
   "source": [
    "# 1 - Contexto <a id=\"1\"></a>"
   ]
  },
  {
   "cell_type": "markdown",
   "metadata": {},
   "source": [
    "Com o passar dos anos e o avanço da tecnologia, houve a criação e implementação de sensores em locais com risco de desastres naturais para a verificação de riscos e coleta dos dados. Dessa forma, uma vasta quantidade de dados é gerada diariamente, principalmente quando há situações de tremores, seja em razão de terremotos, erupções, ou até mesmo de ações humanas como acontece em alguns tipos de explosões. \n",
    "\n",
    "Portanto, a criação de um observatório sobre tremores e a predição da magnitude de determinada vibração terrestre, dado a longitude e profundidade do tremor, torna-se interessante para o monitoramento de tais fenômenos."
   ]
  },
  {
   "cell_type": "markdown",
   "metadata": {},
   "source": [
    "## 1.2 - Observatório sismológico <a id=\"12\"></a>"
   ]
  },
  {
   "cell_type": "markdown",
   "metadata": {},
   "source": [
    "Este projeto visa a criação de uma solução arquitetada de ponta a ponta, desde a coleta dos dados até a implementação da visualização e modelo de predição interativo com o usuário atráves do Streamlit. \n",
    "\n",
    "Por meio do histórico dos dados gerados até então, será possível visualizar as regiões onde tremores são mais comuns, as magnitudes mais altas registradas até então, e diversos outros fatores como, por exemplo, encontrar os tipos de terremotos que mais ocorreram na data especificada."
   ]
  },
  {
   "cell_type": "markdown",
   "metadata": {},
   "source": [
    "# 2 - Coletando os dados - API <a id=\"2\"></a>"
   ]
  },
  {
   "cell_type": "code",
   "execution_count": null,
   "metadata": {},
   "outputs": [],
   "source": [
    "startTime = '2019-12-15'\n",
    "endTime = '2022-06-01'\n",
    "magnitude_desejada = str(2)\n",
    "\n",
    "url = 'https://earthquake.usgs.gov/fdsnws/event/1/query?format=geojson&starttime={0}&endtime={1}&minmagnitude={2}&limit=20000'.format(startTime, endTime, magnitude_desejada)\n",
    "response = urllib.request.urlopen(url).read()\n",
    "data = json.loads(response.decode('utf-8'))"
   ]
  },
  {
   "cell_type": "markdown",
   "metadata": {},
   "source": [
    "## 2.1 - Coletando as variáveis necessárias <a id=\"21\"></a>"
   ]
  },
  {
   "cell_type": "code",
   "execution_count": null,
   "metadata": {},
   "outputs": [],
   "source": [
    "magnitude = []\n",
    "\n",
    "for mag in data['features']:\n",
    "    magnitude.append(mag['properties']['mag'])"
   ]
  },
  {
   "cell_type": "code",
   "execution_count": null,
   "metadata": {},
   "outputs": [],
   "source": [
    "latitude = []\n",
    "\n",
    "for lat in data['features']:\n",
    "    latitude.append(lat['geometry']['coordinates'][1])\n",
    "\n",
    "longitude = []\n",
    "\n",
    "for lon in data['features']:\n",
    "    longitude.append(lon['geometry']['coordinates'][0])\n",
    "    \n",
    "profundidade = []\n",
    "\n",
    "for prof in data['features']:\n",
    "    profundidade.append(prof['geometry']['coordinates'][2])"
   ]
  },
  {
   "cell_type": "code",
   "execution_count": null,
   "metadata": {},
   "outputs": [],
   "source": [
    "timestamp = []\n",
    "\n",
    "for time in data['features']:\n",
    "    timestamp.append(time['properties']['time'])"
   ]
  },
  {
   "cell_type": "code",
   "execution_count": null,
   "metadata": {},
   "outputs": [],
   "source": [
    "tipoTerremoto = []\n",
    "\n",
    "for tipo in data['features']:\n",
    "    tipoTerremoto.append(tipo['properties']['type'])\n"
   ]
  },
  {
   "cell_type": "code",
   "execution_count": null,
   "metadata": {},
   "outputs": [],
   "source": [
    "significancia = []\n",
    "\n",
    "for sig in data['features']:\n",
    "    significancia.append(sig['properties']['sig'])"
   ]
  },
  {
   "cell_type": "code",
   "execution_count": null,
   "metadata": {},
   "outputs": [],
   "source": [
    "local = []\n",
    "\n",
    "for loc in data['features']:\n",
    "    local.append(loc['properties']['place'])"
   ]
  },
  {
   "cell_type": "markdown",
   "metadata": {},
   "source": [
    "## 2.2 - Criando um dataframe com a lista das variáveis coletadas <a id=\"22\"></a>"
   ]
  },
  {
   "cell_type": "code",
   "execution_count": null,
   "metadata": {
    "scrolled": false
   },
   "outputs": [],
   "source": [
    "dicionario_geral = {'Local': local, 'Magnitude': magnitude, 'Tipo': tipoTerremoto,\n",
    "                    'Significancia': significancia, 'Profundidade': profundidade,\n",
    "                    'Latitude': latitude, 'Longitude': longitude, 'Timestamp': timestamp}\n",
    "df = pd.DataFrame.from_dict(dicionario_geral)\n",
    "df.tail()"
   ]
  },
  {
   "cell_type": "markdown",
   "metadata": {},
   "source": [
    "## 2.3 - Manipulação dos dados <a id=\"23\"></a>"
   ]
  },
  {
   "cell_type": "code",
   "execution_count": null,
   "metadata": {},
   "outputs": [],
   "source": [
    "df.dtypes"
   ]
  },
  {
   "cell_type": "markdown",
   "metadata": {},
   "source": [
    "### 2.3.1 - Tipo do terremoto <a id=\"231\"></a>"
   ]
  },
  {
   "cell_type": "markdown",
   "metadata": {},
   "source": [
    "Essa abordagem teve como objetivo a melhor visualização do usuário quando o código for implementado na web via biblioteca streamlit"
   ]
  },
  {
   "cell_type": "code",
   "execution_count": null,
   "metadata": {
    "scrolled": true
   },
   "outputs": [],
   "source": [
    "#Variável Tipo\n",
    "mapping_tipo = {\"Tipo\": {'earthquake': 'Terremoto', 'explosion': 'Explosão', 'nuclear explosion':'Explosão Nuclear', 'rock burst': 'Explosão de mina', 'quarry blast': 'Explosão de mina'}}\n",
    "df = df.replace(mapping_tipo)\n",
    "\n",
    "#Verificando alterações\n",
    "df.tail()"
   ]
  },
  {
   "cell_type": "markdown",
   "metadata": {},
   "source": [
    "### 2.3.2 - Variáveis de tempo <a id=\"232\"></a>"
   ]
  },
  {
   "cell_type": "markdown",
   "metadata": {},
   "source": [
    "Ajustando a variável timestamp que está na unidade de millisegundos, criando uma coluna com apenas o ano do tremor (Que será utilizada nos gráficos) e reordenando o dataframe da data mais antiga para a mais atual escolhida pelo usuário no início do estudo."
   ]
  },
  {
   "cell_type": "code",
   "execution_count": null,
   "metadata": {
    "scrolled": false
   },
   "outputs": [],
   "source": [
    "#Ajustando timestamp\n",
    "df.Timestamp = pd.to_datetime(df.Timestamp, unit='ms')\n",
    "\n",
    "#Crianção da variável Ano\n",
    "df['Year'] = pd.to_datetime(df.Timestamp).dt.year\n",
    "\n",
    "#Reordenando o dataframe\n",
    "df = df.sort_values(by=['Timestamp'], ascending=True).reset_index()\n",
    "df.drop(columns = ['index'], inplace = True)\n",
    "\n",
    "#Verificando alterações\n",
    "df.head()"
   ]
  },
  {
   "cell_type": "markdown",
   "metadata": {},
   "source": [
    "# 3 - Análise exploratória <a id=\"3\"></a>"
   ]
  },
  {
   "cell_type": "code",
   "execution_count": null,
   "metadata": {},
   "outputs": [],
   "source": [
    "df.describe()"
   ]
  },
  {
   "cell_type": "markdown",
   "metadata": {},
   "source": [
    "## 3.1 - Magnitude <a id=\"31\"></a>"
   ]
  },
  {
   "cell_type": "code",
   "execution_count": null,
   "metadata": {},
   "outputs": [],
   "source": [
    "df.Magnitude.describe()"
   ]
  },
  {
   "cell_type": "code",
   "execution_count": null,
   "metadata": {},
   "outputs": [],
   "source": [
    "fig, ax = plt.subplots(1, 1,figsize=(20,10))\n",
    "hist = sns.histplot(data=df, x=\"Magnitude\",  kde=True)\n",
    "\n",
    "ax.hist\n",
    "ax.set_xlabel('Magnitude', size = 15)\n",
    "ax.set_ylabel('Frequência', size = 15)"
   ]
  },
  {
   "cell_type": "markdown",
   "metadata": {},
   "source": [
    "## 3.2 - Local <a id=\"32\"></a>"
   ]
  },
  {
   "cell_type": "code",
   "execution_count": null,
   "metadata": {},
   "outputs": [],
   "source": [
    "df.Local.describe()"
   ]
  },
  {
   "cell_type": "code",
   "execution_count": null,
   "metadata": {
    "scrolled": false
   },
   "outputs": [],
   "source": [
    "df.Local.value_counts()"
   ]
  },
  {
   "cell_type": "code",
   "execution_count": null,
   "metadata": {},
   "outputs": [],
   "source": [
    "fig, ax = plt.subplots(figsize=(20,7))\n",
    "df.Local.value_counts().iloc[:3].plot(x=None,y=None, kind='pie', ax=ax, autopct='%1.2f%%')\n",
    "#ax.set_title(\"Porcentagem do Sexo dos hospedes\")\n",
    "plt.show()"
   ]
  },
  {
   "cell_type": "code",
   "execution_count": null,
   "metadata": {
    "scrolled": true
   },
   "outputs": [],
   "source": [
    "fig, ax = plt.subplots(1, 1,figsize=(10,5))\n",
    "bar = sns.countplot(x ='Local', data = df, order=df.Local.value_counts().iloc[:3].index)\n",
    "\n",
    "ax.bar\n",
    "ax.set_xlabel('Localização', size = 10)\n",
    "ax.set_ylabel('Frequência', size = 10)"
   ]
  },
  {
   "cell_type": "markdown",
   "metadata": {},
   "source": [
    "## 3.3 - Tipo <a id=\"33\"></a>"
   ]
  },
  {
   "cell_type": "code",
   "execution_count": null,
   "metadata": {},
   "outputs": [],
   "source": [
    "df.Tipo.describe()"
   ]
  },
  {
   "cell_type": "code",
   "execution_count": null,
   "metadata": {},
   "outputs": [],
   "source": [
    "df.Tipo.value_counts()"
   ]
  },
  {
   "cell_type": "code",
   "execution_count": null,
   "metadata": {
    "scrolled": true
   },
   "outputs": [],
   "source": [
    "fig, ax = plt.subplots(1, 1,figsize=(20,5))\n",
    "bar = sns.countplot(x ='Tipo', data = df)\n",
    "\n",
    "ax.bar\n",
    "ax.set_xlabel('Tipo', size = 10)\n",
    "ax.set_ylabel('Frequência', size = 10)"
   ]
  },
  {
   "cell_type": "code",
   "execution_count": null,
   "metadata": {
    "scrolled": true
   },
   "outputs": [],
   "source": [
    "fig, ax = plt.subplots(1, 1,figsize=(20,5))\n",
    "bar = sns.countplot(x ='Tipo', data = df[df.Tipo != 'earthquake'])\n",
    "\n",
    "ax.bar\n",
    "ax.set_xlabel('Tipo', size = 10)\n",
    "ax.set_ylabel('Frequência', size = 10)"
   ]
  },
  {
   "cell_type": "code",
   "execution_count": null,
   "metadata": {},
   "outputs": [],
   "source": [
    "df[df.Tipo == 'other event'].Magnitude.max()"
   ]
  },
  {
   "cell_type": "markdown",
   "metadata": {},
   "source": [
    "## 3.4 - Signficiância <a id=\"34\"></a>"
   ]
  },
  {
   "cell_type": "code",
   "execution_count": null,
   "metadata": {},
   "outputs": [],
   "source": [
    "df.Significancia.describe()"
   ]
  },
  {
   "cell_type": "code",
   "execution_count": null,
   "metadata": {},
   "outputs": [],
   "source": [
    "fig, ax = plt.subplots(1, 1,figsize=(20,10))\n",
    "hist = sns.boxplot(data=df, x=\"Significancia\")\n",
    "\n",
    "ax.hist\n",
    "ax.set_xlabel('Significância', size = 10)\n",
    "ax.set_ylabel('Frequência', size = 10)"
   ]
  },
  {
   "cell_type": "code",
   "execution_count": null,
   "metadata": {
    "scrolled": true
   },
   "outputs": [],
   "source": [
    "valor = df['Significancia']\n",
    "Q1= valor.quantile(.25)\n",
    "Q2 = valor.quantile(.50)\n",
    "Q3 = valor.quantile(.75)\n",
    "\n",
    "IIQ = (Q3 - Q1).round(2)\n",
    "\n",
    "LIC = Q1 - 1.5 * IIQ\n",
    "\n",
    "LSC = Q3 + 1.5 * IIQ\n",
    "\n",
    "print(f'Q1:{Q1}\\nQ3:{Q3}\\nMediana:{Q2}\\nLimite Superior:{LSC}\\nLimite Inferior:{LSC}')"
   ]
  },
  {
   "cell_type": "markdown",
   "metadata": {},
   "source": [
    "## 3.5 - Profundidade <a id=\"35\"></a>"
   ]
  },
  {
   "cell_type": "code",
   "execution_count": null,
   "metadata": {},
   "outputs": [],
   "source": [
    "df.Profundidade.describe()"
   ]
  },
  {
   "cell_type": "code",
   "execution_count": null,
   "metadata": {},
   "outputs": [],
   "source": [
    "fig, ax = plt.subplots(1, 1,figsize=(20,10))\n",
    "hist = sns.histplot(data=df, x=\"Profundidade\",  kde=True, bins = 150)\n",
    "\n",
    "ax.hist\n",
    "ax.set_xlabel('Profundidade', size = 10)\n",
    "ax.set_ylabel('Frequência', size = 10)"
   ]
  },
  {
   "cell_type": "code",
   "execution_count": null,
   "metadata": {
    "scrolled": true
   },
   "outputs": [],
   "source": [
    "df.Profundidade.describe()"
   ]
  },
  {
   "cell_type": "code",
   "execution_count": null,
   "metadata": {
    "scrolled": true
   },
   "outputs": [],
   "source": [
    "sns.pairplot(df)"
   ]
  },
  {
   "cell_type": "markdown",
   "metadata": {},
   "source": [
    "## 3.6 - Mapas-mundí <a id=\"36\"></a>"
   ]
  },
  {
   "cell_type": "code",
   "execution_count": null,
   "metadata": {
    "scrolled": false
   },
   "outputs": [],
   "source": [
    "#!pip install geopandas\n",
    "#!pip install Basemap\n",
    "\n",
    "# from mpl_toolkits.basemap import Basemap\n",
    "# import matplotlib.pyplot as plt\n",
    "\n",
    "\n",
    "# m = Basemap(projection='mill',llcrnrlat=-80,urcrnrlat=80, llcrnrlon=-180,urcrnrlon=180,lat_ts=20,resolution='c')\n",
    "\n",
    "# longitudes = df[\"Longitude\"].tolist()\n",
    "# latitudes = df[\"Latitude\"].tolist()\n",
    "\n",
    "# x,y = m(longitudes,latitudes)\n",
    "\n",
    "# fig = plt.figure(figsize=(12,10))\n",
    "# plt.title(f\"Terremotos - {df.Year.min()} a {df.Year.max()}\")\n",
    "# m.plot(x, y, \"o\", markersize = 4, color = 'red')\n",
    "# m.drawcoastlines()\n",
    "# m.fillcontinents(color='pink',lake_color='aqua')\n",
    "# m.drawmapboundary()\n",
    "# m.drawcountries()\n",
    "# plt.show()"
   ]
  },
  {
   "cell_type": "code",
   "execution_count": null,
   "metadata": {},
   "outputs": [],
   "source": [
    "# figMapaMundi = px.scatter_geo(data_frame=df, lat=\"Latitude\", lon=\"Longitude\", color=\"Magnitude\", size=df.Magnitude**10, size_max=60, \n",
    "#                               color_continuous_scale=['#04290d', 'yellow', 'red'], width=900, height=600)\n",
    "# figMapaMundi.layout.geo.projection = {'rotation': {'lon': 200}, 'type': 'natural earth'} #Ajustando rotacao do globo\n",
    "# figMapaMundi.update_geos(showcountries=True) #Fazendo com que as fronteiras aparecam"
   ]
  },
  {
   "cell_type": "markdown",
   "metadata": {},
   "source": [
    "# 4 - Modelagem <a id=\"4\"></a>"
   ]
  },
  {
   "cell_type": "code",
   "execution_count": null,
   "metadata": {},
   "outputs": [],
   "source": [
    "figure(figsize=(15,5))\n",
    "sns.heatmap(df.corr(), annot = True, cmap=\"Reds\")"
   ]
  },
  {
   "cell_type": "code",
   "execution_count": null,
   "metadata": {},
   "outputs": [],
   "source": [
    "cols =  ['Longitude', 'Profundidade']\n",
    "X = df.loc[:, cols].values\n",
    "y = df.loc[:, 'Magnitude'].values"
   ]
  },
  {
   "cell_type": "markdown",
   "metadata": {},
   "source": [
    "## 4.1 - Separaçao em treino e teste <a id=\"41\"></a>"
   ]
  },
  {
   "cell_type": "code",
   "execution_count": null,
   "metadata": {},
   "outputs": [],
   "source": [
    "from sklearn.model_selection import train_test_split\n",
    "X_train, X_test, y_train, y_test = train_test_split(X, y, test_size = 0.3, random_state = 0)"
   ]
  },
  {
   "cell_type": "markdown",
   "metadata": {},
   "source": [
    "## 4.2 - Normalização dos dados <a id=\"42\"></a>"
   ]
  },
  {
   "cell_type": "code",
   "execution_count": null,
   "metadata": {},
   "outputs": [],
   "source": [
    "#Normalização dos dados\n",
    "from sklearn.preprocessing import StandardScaler\n",
    "\n",
    "ss = StandardScaler()\n",
    "X_stand_train = ss.fit_transform(X_train)\n",
    "X_stand_test = ss.transform(X_test)"
   ]
  },
  {
   "cell_type": "markdown",
   "metadata": {},
   "source": [
    "## 4.3 - Random forest <a id=\"43\"></a>"
   ]
  },
  {
   "cell_type": "code",
   "execution_count": null,
   "metadata": {
    "scrolled": true
   },
   "outputs": [],
   "source": [
    "#RandomForestRegressor\n",
    "from sklearn.ensemble import RandomForestRegressor\n",
    "regressor = RandomForestRegressor()\n",
    "\n",
    "#padronizado zscore\n",
    "regressor.fit(X_stand_train, y_train)\n",
    "y_pred = regressor.predict(X_stand_test)\n",
    "\n",
    "#regressor.fit(X_train, y_train)\n",
    "#y_pred = regressor.predict(X_test)\n",
    "\n",
    "#R2\n",
    "score_stand_ran = regressor.score(X_stand_test, y_test) #zscore\n",
    "#score_stand_ran = regressor.score(X_test, y_test)\n",
    "\n",
    "#MSE\n",
    "mse = mean_squared_error(y_test, y_pred)\n",
    "\n",
    "#Métricas\n",
    "print(f'R2 Random Forest Regressor: {score_stand_ran:.2f}')\n",
    "print(f'MSE: {mse:.2f}')\n",
    "\n",
    "#Testando previsoes (Longitude e Profundidade) 5.90\tearthquake\t796\t50.09\t-12.7067\t-76.7210\t\n",
    "new_array = np.array([-76.7210, 5.90]).reshape(-1, 2)\n",
    "print(f'Terremoto: {regressor.predict(new_array)[0]:.2f}')"
   ]
  },
  {
   "cell_type": "markdown",
   "metadata": {},
   "source": [
    "### 4.3.1 - GridSearchCV<a id=\"431\"></a>"
   ]
  },
  {
   "cell_type": "code",
   "execution_count": null,
   "metadata": {},
   "outputs": [],
   "source": [
    "import warnings\n",
    "warnings.filterwarnings('ignore')\n",
    "\n",
    "from sklearn.model_selection import GridSearchCV\n",
    "parameters = [{\n",
    "    'bootstrap': [True],\n",
    "    'max_depth': [80, 90, 100, 110],\n",
    "    'max_features': [2, 3],\n",
    "    'min_samples_leaf': [3, 4, 5],\n",
    "    'min_samples_split': [8, 10, 12],\n",
    "    'n_estimators': [100, 200, 300, 1000]\n",
    "}]\n",
    "\n",
    "#grid_search = GridSearchCV(estimator = regressor, param_grid = parameters, scoring = 'r2', cv = 10, n_jobs = -1)\n",
    "\n",
    "#grid_search = grid_search.fit(X_stand_train, y_train)\n",
    "#best_accuracy = grid_search.best_score_\n",
    "#best_parameters = grid_search.best_params_\n",
    "\n",
    "#print(f'Melhor acurácia: {best_accuracy}\\nMelhores parâmetros: {best_parameters}')"
   ]
  },
  {
   "cell_type": "code",
   "execution_count": null,
   "metadata": {
    "scrolled": true
   },
   "outputs": [],
   "source": [
    "len(regressor.estimators_)"
   ]
  },
  {
   "cell_type": "markdown",
   "metadata": {},
   "source": [
    "### 4.3.2 - Visualização das árvores <a id=\"432\"></a>"
   ]
  },
  {
   "cell_type": "code",
   "execution_count": null,
   "metadata": {},
   "outputs": [],
   "source": [
    "import matplotlib.pyplot as plt\n",
    "from sklearn.tree import plot_tree\n",
    "\n",
    "n_arvore = 0\n",
    "\n",
    "fig, axes = plt.subplots(nrows = 1,ncols = 1,figsize = (15,15), dpi=800)\n",
    "plot_tree(regressor.estimators_[n_arvore], \n",
    "          feature_names=['Profundidade', 'Longitude'],\n",
    "          class_names=['Magnitude'], \n",
    "          filled=True, impurity=True, proportion = True, fontsize = 5,\n",
    "          rounded=False, max_depth = 3)\n",
    "fig.savefig(f'Modelo-Arvore-LongProf-Numero-{n_arvore}.png')"
   ]
  },
  {
   "cell_type": "code",
   "execution_count": null,
   "metadata": {
    "scrolled": false
   },
   "outputs": [],
   "source": [
    "# fig, axes = plt.subplots(nrows = 1,ncols = 5,figsize = (40,25), dpi=900)\n",
    "# for i in range(0, 5):\n",
    "#     tree.plot_tree(\n",
    "#         regressor.estimators_[i], \n",
    "#         feature_names=['Profundidade', 'Longitude'],\n",
    "#         class_names=['Magnitude'], \n",
    "#         filled=True, impurity=True, proportion = True, fontsize = 5,\n",
    "#         rounded=False, max_depth = 3, ax = axes[i])\n",
    "\n",
    "#     axes[index].set_title('Estimator: ' + str(i), fontsize = 20)\n",
    "# fig.savefig('Modelo-Arvores-0-4.png')"
   ]
  },
  {
   "cell_type": "markdown",
   "metadata": {},
   "source": [
    "# 5 - Banco de dados (não utilizado) <a id=\"5\"></a>"
   ]
  },
  {
   "cell_type": "markdown",
   "metadata": {},
   "source": [
    "## 5.1 - Conexão SQlite <a id=\"51\"></a>"
   ]
  },
  {
   "cell_type": "code",
   "execution_count": null,
   "metadata": {},
   "outputs": [],
   "source": [
    "# db = create_engine('sqlite:///earthquakes-final.sqlite', echo = False)\n",
    "# conn = db.connect()"
   ]
  },
  {
   "cell_type": "code",
   "execution_count": null,
   "metadata": {
    "scrolled": true
   },
   "outputs": [],
   "source": [
    "# schema_earthquakes = '''\n",
    "# CREATE TABLE earthquakes(\n",
    "#     Local                 TEXT,\n",
    "#     Magnitude             REAL,\n",
    "#     Tipo                  TEXT,\n",
    "#     Significancia         Integer,\n",
    "#     Profundidade          REAL,\n",
    "#     Latitude              REAL,\n",
    "#     Longitude             REAL,\n",
    "#     Timestamp             TEXT,\n",
    "#     Year                  Integer\n",
    "# )\n",
    "# '''"
   ]
  },
  {
   "cell_type": "code",
   "execution_count": null,
   "metadata": {},
   "outputs": [],
   "source": [
    "# df.to_sql('earthquakes', con = conn, if_exists = 'append', index = False)"
   ]
  },
  {
   "cell_type": "code",
   "execution_count": null,
   "metadata": {},
   "outputs": [],
   "source": [
    "# db = create_engine('sqlite:///earthquakes-final.sqlite', echo = False)\n",
    "# conn = db.connect()"
   ]
  },
  {
   "cell_type": "code",
   "execution_count": null,
   "metadata": {},
   "outputs": [],
   "source": [
    "# df = pd.read_sql_query( '''SELECT * FROM earthquakes''', conn )\n",
    "# df.head()\n",
    "# conn.close()"
   ]
  },
  {
   "cell_type": "code",
   "execution_count": null,
   "metadata": {},
   "outputs": [],
   "source": [
    "# df = df.drop_duplicates(subset=['Local', 'Magnitude', 'Tipo', 'Significancia', 'Profundidade'])"
   ]
  },
  {
   "cell_type": "markdown",
   "metadata": {},
   "source": [
    "### 5.1.2 - Acessando dados SQLite <a id=\"512\"></a>"
   ]
  },
  {
   "cell_type": "code",
   "execution_count": null,
   "metadata": {},
   "outputs": [],
   "source": [
    "#db = create_engine('sqlite:///earthquakes-victor.sqlite', echo = False)\n",
    "#conn = db.connect()\n",
    "\n",
    "#df = pd.read_sql_query( '''SELECT * FROM earthquakes''', conn )\n",
    "#df"
   ]
  },
  {
   "cell_type": "code",
   "execution_count": null,
   "metadata": {},
   "outputs": [],
   "source": [
    "#conn.close()"
   ]
  }
 ],
 "metadata": {
  "kernelspec": {
   "display_name": "Python 3 (ipykernel)",
   "language": "python",
   "name": "python3"
  },
  "language_info": {
   "codemirror_mode": {
    "name": "ipython",
    "version": 3
   },
   "file_extension": ".py",
   "mimetype": "text/x-python",
   "name": "python",
   "nbconvert_exporter": "python",
   "pygments_lexer": "ipython3",
   "version": "3.9.7"
  }
 },
 "nbformat": 4,
 "nbformat_minor": 1
}
